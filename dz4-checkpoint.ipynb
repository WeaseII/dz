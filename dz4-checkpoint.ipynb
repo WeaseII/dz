{
 "cells": [
  {
   "cell_type": "code",
   "execution_count": null,
   "id": "455ecc0b-f9c8-4525-a779-ed8f8daa8e0c",
   "metadata": {
    "scrolled": true
   },
   "outputs": [],
   "source": [
    "F=float(input())\n",
    "\n",
    "C=(F-32)*5/9\n",
    "print(round(C, 2))"
   ]
  }
 ],
 "metadata": {
  "kernelspec": {
   "display_name": "Python 3 (ipykernel)",
   "language": "python",
   "name": "python3"
  },
  "language_info": {
   "codemirror_mode": {
    "name": "ipython",
    "version": 3
   },
   "file_extension": ".py",
   "mimetype": "text/x-python",
   "name": "python",
   "nbconvert_exporter": "python",
   "pygments_lexer": "ipython3",
   "version": "3.12.7"
  }
 },
 "nbformat": 4,
 "nbformat_minor": 5
}
