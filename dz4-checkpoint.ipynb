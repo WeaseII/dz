{
 "cells": [
  {
   "cell_type": "code",
   "execution_count": 23,
   "id": "27ac1d8d-80ad-4994-8ad5-4d4c9fc5f22a",
   "metadata": {
    "scrolled": true
   },
   "outputs": [
    {
     "name": "stdin",
     "output_type": "stream",
     "text": [
      " 10.5\n"
     ]
    },
    {
     "name": "stdout",
     "output_type": "stream",
     "text": [
      "-11.94\n"
     ]
    }
   ],
   "source": [
    "F=float(input())\n",
    "\n",
    "C=(F-32)*5/9\n",
    "print(round(C, 2))"
   ]
  }
 ],
 "metadata": {
  "kernelspec": {
   "display_name": "Python 3 (ipykernel)",
   "language": "python",
   "name": "python3"
  },
  "language_info": {
   "codemirror_mode": {
    "name": "ipython",
    "version": 3
   },
   "file_extension": ".py",
   "mimetype": "text/x-python",
   "name": "python",
   "nbconvert_exporter": "python",
   "pygments_lexer": "ipython3",
   "version": "3.12.7"
  }
 },
 "nbformat": 4,
 "nbformat_minor": 5
}
