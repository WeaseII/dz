{
 "cells": [
  {
   "cell_type": "code",
   "execution_count": 9,
   "id": "93c14ff0-09bc-4c78-b85a-3d1cefc6308d",
   "metadata": {
    "scrolled": true
   },
   "outputs": [
    {
     "name": "stdin",
     "output_type": "stream",
     "text": [
      " ebal ya v rot eti ahuitel'nyue zadachki ah36723878124375\n"
     ]
    },
    {
     "name": "stdout",
     "output_type": "stream",
     "text": [
      "bly  o t hie'yezdck h6288235\n"
     ]
    }
   ],
   "source": [
    "a=input()\n",
    "b=1\n",
    "x=''\n",
    "while b<len(a):\n",
    "    x=x+a[b]\n",
    "    b=b+2\n",
    "print(x)"
   ]
  }
 ],
 "metadata": {
  "kernelspec": {
   "display_name": "Python 3 (ipykernel)",
   "language": "python",
   "name": "python3"
  },
  "language_info": {
   "codemirror_mode": {
    "name": "ipython",
    "version": 3
   },
   "file_extension": ".py",
   "mimetype": "text/x-python",
   "name": "python",
   "nbconvert_exporter": "python",
   "pygments_lexer": "ipython3",
   "version": "3.12.7"
  }
 },
 "nbformat": 4,
 "nbformat_minor": 5
}
