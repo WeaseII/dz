{
 "cells": [
  {
   "cell_type": "code",
   "execution_count": null,
   "id": "035a8f30-f4f0-40d0-bf65-88d7955a130f",
   "metadata": {},
   "outputs": [],
   "source": [
    "a=int(input())\n",
    "x=1\n",
    "if a%2==0:\n",
    "    for i in range(2, a+1, 2):\n",
    "        x=x*i\n",
    "else:\n",
    "    for i in range(1, a+1, 2):\n",
    "        x=x*i\n",
    "print(x)"
   ]
  }
 ],
 "metadata": {
  "kernelspec": {
   "display_name": "Python 3 (ipykernel)",
   "language": "python",
   "name": "python3"
  },
  "language_info": {
   "codemirror_mode": {
    "name": "ipython",
    "version": 3
   },
   "file_extension": ".py",
   "mimetype": "text/x-python",
   "name": "python",
   "nbconvert_exporter": "python",
   "pygments_lexer": "ipython3",
   "version": "3.12.7"
  }
 },
 "nbformat": 4,
 "nbformat_minor": 5
}
