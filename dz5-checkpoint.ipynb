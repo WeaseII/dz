{
 "cells": [
  {
   "cell_type": "code",
   "execution_count": 16,
   "id": "b21baa1a-18f4-4d9b-a84e-30802f490fcc",
   "metadata": {},
   "outputs": [
    {
     "name": "stdin",
     "output_type": "stream",
     "text": [
      " 7777\n"
     ]
    },
    {
     "name": "stdout",
     "output_type": "stream",
     "text": [
      "Сумма числа 7777 равна 28\n",
      "Произведение числа 7777 равно 2401\n"
     ]
    }
   ],
   "source": [
    "a=int(input())\n",
    "\n",
    "a1= a//1000\n",
    "a2= (a//100) % 10\n",
    "a3= (a//10) % 10\n",
    "a4=a%10\n",
    "\n",
    "x1= a1+a2+a3+a4\n",
    "x2= a1*a2*a3*a4\n",
    "\n",
    "if a<=999:\n",
    "    print(\"Ошибка ввода\")\n",
    "elif a>=10000:\n",
    "    print(\"Ошибка ввода\")\n",
    "else:\n",
    "    print(\"Сумма числа\", a, \"равна\", x1)\n",
    "    print(\"Произведение числа\", a, \"равно\", x2)"
   ]
  },
  {
   "cell_type": "code",
   "execution_count": null,
   "id": "35d52112-5fdc-4ddb-93fa-aba07b8b6e5c",
   "metadata": {},
   "outputs": [],
   "source": []
  }
 ],
 "metadata": {
  "kernelspec": {
   "display_name": "Python 3 (ipykernel)",
   "language": "python",
   "name": "python3"
  },
  "language_info": {
   "codemirror_mode": {
    "name": "ipython",
    "version": 3
   },
   "file_extension": ".py",
   "mimetype": "text/x-python",
   "name": "python",
   "nbconvert_exporter": "python",
   "pygments_lexer": "ipython3",
   "version": "3.12.7"
  }
 },
 "nbformat": 4,
 "nbformat_minor": 5
}
