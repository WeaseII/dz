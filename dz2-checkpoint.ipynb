{
 "cells": [
  {
   "cell_type": "code",
   "execution_count": 2,
   "id": "4d61bc1d-5d06-4e80-83ad-bd5fbbebc673",
   "metadata": {},
   "outputs": [
    {
     "name": "stdin",
     "output_type": "stream",
     "text": [
      " 3000\n",
      " 170000\n",
      " 63000\n"
     ]
    },
    {
     "name": "stdout",
     "output_type": "stream",
     "text": [
      "167000\n"
     ]
    }
   ],
   "source": [
    "a=int(input())\n",
    "b=int(input())\n",
    "c=int(input())\n",
    "if a>=b>=c:\n",
    "    print(a-c)\n",
    "if a>=c>=b:\n",
    "    print(a-b)\n",
    "if b>=c>=a:\n",
    "    print(b-a)\n",
    "if b>=a>=c:\n",
    "    print(b-c)\n",
    "if c>=a>=b:\n",
    "    print(c-b)\n",
    "if c>=b>=a:\n",
    "    print(c-a)"
   ]
  }
 ],
 "metadata": {
  "kernelspec": {
   "display_name": "Python 3 (ipykernel)",
   "language": "python",
   "name": "python3"
  },
  "language_info": {
   "codemirror_mode": {
    "name": "ipython",
    "version": 3
   },
   "file_extension": ".py",
   "mimetype": "text/x-python",
   "name": "python",
   "nbconvert_exporter": "python",
   "pygments_lexer": "ipython3",
   "version": "3.12.7"
  }
 },
 "nbformat": 4,
 "nbformat_minor": 5
}
