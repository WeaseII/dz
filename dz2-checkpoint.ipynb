{
 "cells": [
  {
   "cell_type": "code",
   "execution_count": null,
   "id": "6b9ace65-99da-43d9-8d55-4da7d7021aed",
   "metadata": {},
   "outputs": [],
   "source": [
    "a=int(input())\n",
    "b=int(input())\n",
    "c=int(input())\n",
    "if a>=b>=c:\n",
    "    print(a-c)\n",
    "if a>=c>=b:\n",
    "    print(a-b)\n",
    "if b>=c>=a:\n",
    "    print(b-a)\n",
    "if b>=a>=c:\n",
    "    print(b-c)\n",
    "if c>=a>=b:\n",
    "    print(c-b)\n",
    "if c>=b>=a:\n",
    "    print(c-a)"
   ]
  }
 ],
 "metadata": {
  "kernelspec": {
   "display_name": "Python 3 (ipykernel)",
   "language": "python",
   "name": "python3"
  },
  "language_info": {
   "codemirror_mode": {
    "name": "ipython",
    "version": 3
   },
   "file_extension": ".py",
   "mimetype": "text/x-python",
   "name": "python",
   "nbconvert_exporter": "python",
   "pygments_lexer": "ipython3",
   "version": "3.12.7"
  }
 },
 "nbformat": 4,
 "nbformat_minor": 5
}
